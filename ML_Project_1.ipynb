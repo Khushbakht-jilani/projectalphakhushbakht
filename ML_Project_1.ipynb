{
  "nbformat": 4,
  "nbformat_minor": 0,
  "metadata": {
    "colab": {
      "provenance": []
    },
    "kernelspec": {
      "name": "python3",
      "display_name": "Python 3"
    },
    "language_info": {
      "name": "python"
    }
  },
  "cells": [
    {
      "cell_type": "code",
      "execution_count": null,
      "metadata": {
        "id": "karu5WmtS-XV"
      },
      "outputs": [],
      "source": [
        "import numpy as np\n",
        "import pandas as pd\n",
        "from sklearn.model_selection import train_test_split, GridSearchCV, RandomizedSearchCV\n",
        "from sklearn.linear_model import LinearRegression\n",
        "from sklearn.tree import DecisionTreeRegressor\n",
        "from sklearn.ensemble import RandomForestRegressor\n",
        "from sklearn.preprocessing import StandardScaler\n",
        "from sklearn.metrics import mean_squared_error, r2_score\n",
        "from statsmodels.stats.outliers_influence import variance_inflation_factor\n",
        "import matplotlib.pyplot as plt\n",
        "import seaborn as sns\n",
        "import uuid"
      ]
    },
    {
      "cell_type": "code",
      "source": [
        "# Set random seed for reproducibility\n",
        "np.random.seed(42)"
      ],
      "metadata": {
        "id": "MFEYRU5QTEW8"
      },
      "execution_count": null,
      "outputs": []
    },
    {
      "cell_type": "code",
      "source": [
        "# Generate synthetic dataset\n",
        "n_samples = 16000\n",
        "data = {\n",
        "    'GRE': np.random.normal(320, 10, n_samples).clip(300, 340),\n",
        "    'TOEFL': np.random.normal(105, 7, n_samples).clip(80, 120),\n",
        "    'CGPA': np.random.normal(8.5, 0.7, n_samples).clip(6, 10),\n",
        "    'University_rating': np.random.randint(1, 6, n_samples),\n",
        "    'SOP_quality': np.random.uniform(1, 5, n_samples),\n",
        "    'LOR_strength': np.random.uniform(1, 5, n_samples),\n",
        "    'Research': np.random.choice([0, 1], n_samples, p=[0.4, 0.6]),\n",
        "    'Admit_Probability': np.zeros(n_samples)}\n",
        "df = pd.DataFrame(data)"
      ],
      "metadata": {
        "id": "IUf1d6ttTFAO"
      },
      "execution_count": null,
      "outputs": []
    },
    {
      "cell_type": "code",
      "source": [
        "# Simulate admission probability (simplified linear combination with noise)\n",
        "weights = {'GRE': 0.3, 'TOEFL': 0.2, 'CGPA': 0.3, 'University_rating': 0.1,\n",
        "           'SOP_quality': 0.05, 'LOR_strength': 0.05, 'Research': 0.2}\n",
        "for col in weights:\n",
        "    df['Admit_Probability'] += weights[col] * (df[col] / df[col].max())\n",
        "df['Admit_Probability'] = df['Admit_Probability'].clip(0, 1) + np.random.normal(0, 0.05, n_samples).clip(-0.1, 0.1)\n",
        "df['Admit_Probability'] = df['Admit_Probability'].clip(0, 1)"
      ],
      "metadata": {
        "id": "CrIU7rkUTMTd"
      },
      "execution_count": null,
      "outputs": []
    },
    {
      "cell_type": "code",
      "source": [
        "# Features and target\n",
        "X = df.drop('Admit_Probability', axis=1)\n",
        "y = df['Admit_Probability']"
      ],
      "metadata": {
        "id": "HfoT4xDMTSn-"
      },
      "execution_count": null,
      "outputs": []
    },
    {
      "cell_type": "code",
      "source": [
        "# Split data\n",
        "X_train, X_test, y_train, y_test = train_test_split(X, y, test_size=0.2, random_state=42)"
      ],
      "metadata": {
        "id": "Y0Wgs40nTU0T"
      },
      "execution_count": null,
      "outputs": []
    },
    {
      "cell_type": "code",
      "source": [
        "# Scale continuous features\n",
        "scaler = StandardScaler()\n",
        "continuous_cols = ['GRE', 'TOEFL', 'CGPA', 'SOP_quality', 'LOR_strength']\n",
        "X_train_scaled = X_train.copy()\n",
        "X_test_scaled = X_test.copy()\n",
        "X_train_scaled[continuous_cols] = scaler.fit_transform(X_train[continuous_cols])\n",
        "X_test_scaled[continuous_cols] = scaler.transform(X_test[continuous_cols])"
      ],
      "metadata": {
        "id": "twu5v87JTXKP"
      },
      "execution_count": null,
      "outputs": []
    },
    {
      "cell_type": "code",
      "source": [
        "# 1. Multiple Linear Regression with Multicollinearity Handling\n",
        "# Check for multicollinearity using VIF\n",
        "X_vif = X_train_scaled.copy()\n",
        "vif_data = pd.DataFrame()\n",
        "vif_data['Feature'] = X_vif.columns\n",
        "vif_data['VIF'] = [variance_inflation_factor(X_vif.values, i) for i in range(X_vif.shape[1])]\n",
        "print(\"VIF Scores:\\n\", vif_data)"
      ],
      "metadata": {
        "colab": {
          "base_uri": "https://localhost:8080/"
        },
        "id": "kHclEcopTZwV",
        "outputId": "37d2da44-d0ea-4445-9ae8-6b28760c4419"
      },
      "execution_count": null,
      "outputs": [
        {
          "output_type": "stream",
          "name": "stdout",
          "text": [
            "VIF Scores:\n",
            "              Feature       VIF\n",
            "0                GRE  1.000258\n",
            "1              TOEFL  1.000177\n",
            "2               CGPA  1.000245\n",
            "3  University_rating  1.960603\n",
            "4        SOP_quality  1.000216\n",
            "5       LOR_strength  1.000173\n",
            "6           Research  1.960608\n"
          ]
        }
      ]
    },
    {
      "cell_type": "code",
      "source": [
        "# Assume VIF > 5 indicates multicollinearity; remove highest VIF feature if needed\n",
        "# For simplicity, assume GRE and TOEFL are correlated\n",
        "if (vif_data['VIF'] > 5).any():\n",
        "    # Drop TOEFL (arbitrary choice for demo; in practice, analyze correlation)\n",
        "    X_train_scaled = X_train_scaled.drop('TOEFL', axis=1)\n",
        "    X_test_scaled = X_test_scaled.drop('TOEFL', axis=1)\n",
        "    print(\"Dropped TOEFL due to high VIF.\")"
      ],
      "metadata": {
        "id": "2SkvthuCTb60"
      },
      "execution_count": null,
      "outputs": []
    },
    {
      "cell_type": "code",
      "source": [
        "# Train Linear Regression\n",
        "lr_model = LinearRegression()\n",
        "lr_model.fit(X_train_scaled, y_train)\n",
        "lr_pred = lr_model.predict(X_test_scaled)\n",
        "lr_mse = mean_squared_error(y_test, lr_pred)\n",
        "lr_r2 = r2_score(y_test, lr_pred)\n",
        "print(f\"Linear Regression - MSE: {lr_mse:.4f}, R2: {lr_r2:.4f}\")"
      ],
      "metadata": {
        "colab": {
          "base_uri": "https://localhost:8080/"
        },
        "id": "mTwYy9_xTesv",
        "outputId": "a94daf19-c677-436f-d8df-98d053b05a22"
      },
      "execution_count": null,
      "outputs": [
        {
          "output_type": "stream",
          "name": "stdout",
          "text": [
            "Linear Regression - MSE: 0.0008, R2: -0.0020\n"
          ]
        }
      ]
    },
    {
      "cell_type": "code",
      "source": [
        "# 2. Decision Tree Regressor Optimization\n",
        "dt_param_grid = {\n",
        "    'max_depth': [3, 5, 7, 10],\n",
        "    'min_samples_split': [2, 5, 10],\n",
        "    'min_samples_leaf': [1, 2, 4]\n",
        "}\n",
        "dt_model = DecisionTreeRegressor(random_state=42)\n",
        "dt_grid = GridSearchCV(dt_model, dt_param_grid, cv=5, scoring='neg_mean_squared_error')\n",
        "dt_grid.fit(X_train_scaled, y_train)\n",
        "best_dt = dt_grid.best_estimator_\n",
        "dt_pred = best_dt.predict(X_test_scaled)\n",
        "dt_mse = mean_squared_error(y_test, dt_pred)\n",
        "dt_r2 = r2_score(y_test, dt_pred)\n",
        "print(f\"Decision Tree - Best Params: {dt_grid.best_params_}\")\n",
        "print(f\"Decision Tree - MSE: {dt_mse:.4f}, R2: {dt_r2:.4f}\")"
      ],
      "metadata": {
        "colab": {
          "base_uri": "https://localhost:8080/"
        },
        "id": "NleGmYmyTg4G",
        "outputId": "aff0e55d-1747-47c7-d71d-f273992a1954"
      },
      "execution_count": null,
      "outputs": [
        {
          "output_type": "stream",
          "name": "stdout",
          "text": [
            "Decision Tree - Best Params: {'max_depth': 3, 'min_samples_leaf': 1, 'min_samples_split': 2}\n",
            "Decision Tree - MSE: 0.0008, R2: -0.0044\n"
          ]
        }
      ]
    },
    {
      "cell_type": "code",
      "source": [
        "# 3. Random Forest Regressor Tuning\n",
        "# Use RandomizedSearchCV for efficiency with large parameter space\n",
        "rf_param_dist = {\n",
        "    'n_estimators': [50, 100, 200],\n",
        "    'max_depth': [5, 10, 15, None],\n",
        "    'min_samples_split': [2, 5, 10],\n",
        "    'min_samples_leaf': [1, 2, 4],\n",
        "    'max_features': ['auto', 'sqrt', 'log2']\n",
        "}\n",
        "rf_model = RandomForestRegressor(random_state=42)\n",
        "rf_random = RandomizedSearchCV(rf_model, rf_param_dist, n_iter=20, cv=5, scoring='neg_mean_squared_error', random_state=42)\n",
        "rf_random.fit(X_train_scaled, y_train)\n",
        "best_rf = rf_random.best_estimator_\n",
        "rf_pred = best_rf.predict(X_test_scaled)\n",
        "rf_mse = mean_squared_error(y_test, rf_pred)\n",
        "rf_r2 = r2_score(y_test, rf_pred)\n",
        "print(f\"Random Forest - Best Params: {rf_random.best_params_}\")\n",
        "print(f\"Random Forest - MSE: {rf_mse:.4f}, R2: {rf_r2:.4f}\")\n"
      ],
      "metadata": {
        "colab": {
          "base_uri": "https://localhost:8080/"
        },
        "id": "viptQFkjTjwT",
        "outputId": "344cd1f0-006a-4b7c-e728-3fd0b0d687bb"
      },
      "execution_count": null,
      "outputs": [
        {
          "output_type": "stream",
          "name": "stderr",
          "text": [
            "/usr/local/lib/python3.11/dist-packages/sklearn/model_selection/_validation.py:528: FitFailedWarning: \n",
            "40 fits failed out of a total of 100.\n",
            "The score on these train-test partitions for these parameters will be set to nan.\n",
            "If these failures are not expected, you can try to debug them by setting error_score='raise'.\n",
            "\n",
            "Below are more details about the failures:\n",
            "--------------------------------------------------------------------------------\n",
            "40 fits failed with the following error:\n",
            "Traceback (most recent call last):\n",
            "  File \"/usr/local/lib/python3.11/dist-packages/sklearn/model_selection/_validation.py\", line 866, in _fit_and_score\n",
            "    estimator.fit(X_train, y_train, **fit_params)\n",
            "  File \"/usr/local/lib/python3.11/dist-packages/sklearn/base.py\", line 1382, in wrapper\n",
            "    estimator._validate_params()\n",
            "  File \"/usr/local/lib/python3.11/dist-packages/sklearn/base.py\", line 436, in _validate_params\n",
            "    validate_parameter_constraints(\n",
            "  File \"/usr/local/lib/python3.11/dist-packages/sklearn/utils/_param_validation.py\", line 98, in validate_parameter_constraints\n",
            "    raise InvalidParameterError(\n",
            "sklearn.utils._param_validation.InvalidParameterError: The 'max_features' parameter of RandomForestRegressor must be an int in the range [1, inf), a float in the range (0.0, 1.0], a str among {'log2', 'sqrt'} or None. Got 'auto' instead.\n",
            "\n",
            "  warnings.warn(some_fits_failed_message, FitFailedWarning)\n",
            "/usr/local/lib/python3.11/dist-packages/sklearn/model_selection/_search.py:1108: UserWarning: One or more of the test scores are non-finite: [-0.000744   -0.00074475 -0.00074276         nan         nan -0.00074337\n",
            " -0.00075166 -0.00074921         nan -0.00074497         nan         nan\n",
            " -0.0007498  -0.00074299         nan -0.0007641  -0.00075564 -0.00074316\n",
            "         nan         nan]\n",
            "  warnings.warn(\n"
          ]
        },
        {
          "output_type": "stream",
          "name": "stdout",
          "text": [
            "Random Forest - Best Params: {'n_estimators': 200, 'min_samples_split': 2, 'min_samples_leaf': 1, 'max_features': 'log2', 'max_depth': 10}\n",
            "Random Forest - MSE: 0.0008, R2: -0.0085\n"
          ]
        }
      ]
    },
    {
      "cell_type": "code",
      "source": [
        "# 4. Feature Selection Based on Random Forest Feature Importance\n",
        "feature_importance = pd.DataFrame({\n",
        "    'Feature': X_train_scaled.columns,\n",
        "    'Importance': best_rf.feature_importances_\n",
        "}).sort_values(by='Importance', ascending=False)\n",
        "print(\"Feature Importance:\\n\", feature_importance)"
      ],
      "metadata": {
        "colab": {
          "base_uri": "https://localhost:8080/"
        },
        "id": "tnOSnLWAToDh",
        "outputId": "1a03aa1f-1541-4e66-92ad-d00547337c33"
      },
      "execution_count": null,
      "outputs": [
        {
          "output_type": "stream",
          "name": "stdout",
          "text": [
            "Feature Importance:\n",
            "              Feature  Importance\n",
            "5       LOR_strength    0.198150\n",
            "4        SOP_quality    0.188860\n",
            "1              TOEFL    0.182652\n",
            "2               CGPA    0.181616\n",
            "0                GRE    0.178812\n",
            "3  University_rating    0.049271\n",
            "6           Research    0.020639\n"
          ]
        }
      ]
    },
    {
      "cell_type": "code",
      "source": [
        "# Select top 5 features\n",
        "top_features = feature_importance['Feature'].head(5).values\n",
        "print(f\"Top 5 Features: {top_features}\")"
      ],
      "metadata": {
        "colab": {
          "base_uri": "https://localhost:8080/"
        },
        "id": "4EmZQ0WcUlZ8",
        "outputId": "c283117c-2d78-4f46-d786-de82c56253bc"
      },
      "execution_count": null,
      "outputs": [
        {
          "output_type": "stream",
          "name": "stdout",
          "text": [
            "Top 5 Features: ['LOR_strength' 'SOP_quality' 'TOEFL' 'CGPA' 'GRE']\n"
          ]
        }
      ]
    },
    {
      "cell_type": "code",
      "source": [
        "# Retrain models with top 5 features\n",
        "X_train_top5 = X_train_scaled[top_features]\n",
        "X_test_top5 = X_test_scaled[top_features]"
      ],
      "metadata": {
        "id": "PLu25qEwUuUy"
      },
      "execution_count": null,
      "outputs": []
    },
    {
      "cell_type": "code",
      "source": [
        "# Retrain Linear Regression\n",
        "lr_model_top5 = LinearRegression()\n",
        "lr_model_top5.fit(X_train_top5, y_train)\n",
        "lr_pred_top5 = lr_model_top5.predict(X_test_top5)\n",
        "lr_mse_top5 = mean_squared_error(y_test, lr_pred_top5)\n",
        "lr_r2_top5 = r2_score(y_test, lr_pred_top5)\n",
        "print(f\"Linear Regression (Top 5 Features) - MSE: {lr_mse_top5:.4f}, R2: {lr_r2_top5:.4f}\")"
      ],
      "metadata": {
        "colab": {
          "base_uri": "https://localhost:8080/"
        },
        "id": "q8CuiL3EUwMh",
        "outputId": "73cd0084-432d-45fd-93f1-e3f419d92a5a"
      },
      "execution_count": null,
      "outputs": [
        {
          "output_type": "stream",
          "name": "stdout",
          "text": [
            "Linear Regression (Top 5 Features) - MSE: 0.0008, R2: -0.0019\n"
          ]
        }
      ]
    },
    {
      "cell_type": "code",
      "source": [
        "# Retrain Decision Tree\n",
        "dt_model_top5 = DecisionTreeRegressor(**dt_grid.best_params_, random_state=42)\n",
        "dt_model_top5.fit(X_train_top5, y_train)\n",
        "dt_pred_top5 = dt_model_top5.predict(X_test_top5)\n",
        "dt_mse_top5 = mean_squared_error(y_test, dt_pred_top5)\n",
        "dt_r2_top5 = r2_score(y_test, dt_pred_top5)\n",
        "print(f\"Decision Tree (Top 5 Features) - MSE: {dt_mse_top5:.4f}, R2: {dt_r2_top5:.4f}\")"
      ],
      "metadata": {
        "colab": {
          "base_uri": "https://localhost:8080/"
        },
        "id": "KtksY1HSUzKj",
        "outputId": "931163fe-407c-445d-ed0e-f205b4a022aa"
      },
      "execution_count": null,
      "outputs": [
        {
          "output_type": "stream",
          "name": "stdout",
          "text": [
            "Decision Tree (Top 5 Features) - MSE: 0.0008, R2: -0.0044\n"
          ]
        }
      ]
    },
    {
      "cell_type": "code",
      "source": [
        "# Retrain Random Forest\n",
        "rf_model_top5 = RandomForestRegressor(**rf_random.best_params_, random_state=42)\n",
        "rf_model_top5.fit(X_train_top5, y_train)\n",
        "rf_pred_top5 = rf_model_top5.predict(X_test_top5)\n",
        "rf_mse_top5 = mean_squared_error(y_test, rf_pred_top5)\n",
        "rf_r2_top5 = r2_score(y_test, rf_pred_top5)\n",
        "print(f\"Random Forest (Top 5 Features) - MSE: {rf_mse_top5:.4f}, R2: {rf_r2_top5:.4f}\")"
      ],
      "metadata": {
        "colab": {
          "base_uri": "https://localhost:8080/"
        },
        "id": "7zSkheuqU2RE",
        "outputId": "b6239702-61c1-46de-c3c8-a1fc300919ef"
      },
      "execution_count": null,
      "outputs": [
        {
          "output_type": "stream",
          "name": "stdout",
          "text": [
            "Random Forest (Top 5 Features) - MSE: 0.0008, R2: -0.0088\n"
          ]
        }
      ]
    },
    {
      "cell_type": "code",
      "source": [
        "# 5. Predict for Hypothetical Applicant\n",
        "applicant = pd.DataFrame({\n",
        "    'GRE': [322],\n",
        "    'TOEFL': [111],\n",
        "    'CGPA': [8.9],\n",
        "    'University_rating': [3],\n",
        "    'SOP_quality': [4.5],  # Assuming \"strong\" = 4.5/5\n",
        "    'LOR_strength': [4.5],  # Assuming \"strong\" research implies strong LOR\n",
        "    'Research': [1]\n",
        "})\n",
        "applicant_scaled = applicant.copy()\n",
        "applicant_scaled[continuous_cols] = scaler.transform(applicant[continuous_cols])\n",
        "if 'TOEFL' not in X_train_scaled.columns:\n",
        "    applicant_scaled = applicant_scaled.drop('TOEFL', axis=1)\n",
        "applicant_top5 = applicant_scaled[top_features]\n"
      ],
      "metadata": {
        "id": "Nmpk4DxYU4lo"
      },
      "execution_count": null,
      "outputs": []
    },
    {
      "cell_type": "code",
      "source": [
        "# Predict with Random Forest (best model)\n",
        "admit_prob = best_rf.predict(applicant_scaled)[0]\n",
        "print(f\"Hypothetical Applicant Admission Probability: {admit_prob:.2%}\")\n",
        "\n",
        "# Feature contributions (approximate using feature importance)\n",
        "contributions = pd.DataFrame({\n",
        "    'Feature': X_train_scaled.columns,\n",
        "    'Contribution': best_rf.feature_importances_ * applicant_scaled.iloc[0]\n",
        "})\n",
        "print(\"Feature Contributions to Prediction:\\n\", contributions)\n"
      ],
      "metadata": {
        "colab": {
          "base_uri": "https://localhost:8080/"
        },
        "id": "htEbBCgNU63D",
        "outputId": "3ea045f5-aa7a-4497-9269-e7d390459c93"
      },
      "execution_count": null,
      "outputs": [
        {
          "output_type": "stream",
          "name": "stdout",
          "text": [
            "Hypothetical Applicant Admission Probability: 97.93%\n",
            "Feature Contributions to Prediction:\n",
            "                              Feature  Contribution\n",
            "GRE                              GRE      0.036437\n",
            "TOEFL                          TOEFL      0.160436\n",
            "CGPA                            CGPA      0.106954\n",
            "University_rating  University_rating      0.147814\n",
            "SOP_quality              SOP_quality      0.243269\n",
            "LOR_strength            LOR_strength      0.258403\n",
            "Research                    Research      0.020639\n"
          ]
        }
      ]
    },
    {
      "cell_type": "code",
      "source": [
        "# 6. Scholarship Recommendation\n",
        "# Threshold-based decision (e.g., top 25% of predicted probabilities)\n",
        "threshold = np.percentile(rf_pred, 75)\n",
        "scholarship_decision = \"Award\" if admit_prob > threshold else \"Do not award\"\n",
        "print(f\"Scholarship Recommendation: {scholarship_decision}\")\n",
        "\n",
        "# Save feature importance plot\n",
        "plt.figure(figsize=(10, 6))\n",
        "sns.barplot(x='Importance', y='Feature', data=feature_importance)\n",
        "plt.title('Feature Importance from Random Forest')\n",
        "plt.savefig('feature_importance.png')"
      ],
      "metadata": {
        "colab": {
          "base_uri": "https://localhost:8080/",
          "height": 581
        },
        "id": "JFHg0wzyU9cp",
        "outputId": "0081ab3b-9a22-4c28-dc7e-b4810e6a0458"
      },
      "execution_count": null,
      "outputs": [
        {
          "output_type": "stream",
          "name": "stdout",
          "text": [
            "Scholarship Recommendation: Do not award\n"
          ]
        },
        {
          "output_type": "display_data",
          "data": {
            "text/plain": [
              "<Figure size 1000x600 with 1 Axes>"
            ],
            "image/png": "[encoded data removed]"
          },
          "metadata": {}
        }
      ]
    },
    {
      "cell_type": "code",
      "source": [],
      "metadata": {
        "id": "hkTGx7bnVAa5"
      },
      "execution_count": null,
      "outputs": []
    }
  ]
}